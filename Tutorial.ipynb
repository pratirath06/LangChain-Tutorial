{
 "cells": [
  {
   "cell_type": "code",
   "execution_count": 1,
   "id": "374f2b7b-747e-451d-8807-b0334aad45c0",
   "metadata": {},
   "outputs": [],
   "source": [
    "import os \n",
    "from api import GROQ_API_KEY\n",
    "os.environ[\"GROQ_API_KEY\"]=GROQ_API_KEY\n",
    "from langchain_groq import ChatGroq\n",
    "model = ChatGroq(model=\"llama3-8b-8192\")"
   ]
  },
  {
   "cell_type": "code",
   "execution_count": 6,
   "id": "125759cc-dad0-4a95-9087-212722775b12",
   "metadata": {},
   "outputs": [
    {
     "data": {
      "text/plain": [
       "\"A classic choice! If you enjoyed the magical world of Harry Potter, here are some book recommendations that you might enjoy:\\n\\n1. **Percy Jackson and the Lightning Thief** by Rick Riordan - This series follows a young boy who discovers he's the son of Poseidon and embarks on a quest to prevent a war between the gods.\\n2. **The Golden Compass** by Philip Pullman - Set in a parallel universe, this series follows a young girl and her daemon (a shape-shifting animal companion) as they embark on a journey to save her friend and uncover the secrets of a mysterious substance called Dust.\\n3. **The Secrets of the Immortal Nicholas Flamel** by Michael Scott - This series is about a set of twins who discover they're the reincarnations of the alchemist Nicholas Flamel and his wife Perenelle, who were tasked with creating the Philosopher's Stone.\\n4. **The Magisterium Series** by Holly Black and Cassandra Clare - This series follows a young boy who discovers a secret school for magic and must navigate the complexities of magic, friendship, and evil forces.\\n5. **The Inheritance Cycle** by Christopher Paolini - This series is set in a fantasy world where dragons and magic exist, and follows a young man who discovers a dragon egg and must learn to master his newfound powers.\\n6. **The Beyonders** by Brandon Mull - This series follows a boy who discovers a secret world of magic and monsters, and must use his wits and courage to survive.\\n7. **The Fablehaven Series** by Brandon Mull - This series follows a brother and sister who discover a magical preserve for mythical creatures and must use their skills and teamwork to protect it from evil forces.\\n\\nThese books share similar themes and elements with Harry Potter, such as magical worlds, adventure, friendship, and the struggle between good and evil. I hope you find a new favorite book among these recommendations!\""
      ]
     },
     "execution_count": 6,
     "metadata": {},
     "output_type": "execute_result"
    }
   ],
   "source": [
    "from langchain_core.prompts import ChatPromptTemplate\n",
    "from langchain_core.output_parsers import StrOutputParser\n",
    "prompt = ChatPromptTemplate.from_messages([\n",
    "    (\"system\",\"Suggest book similar to user's book\"),\n",
    "    (\"user\",\"Book:{book}\")])\n",
    "parser=StrOutputParser()\n",
    "chain = prompt|model|parser\n",
    "chain.invoke({\"book\":\"Harry Potter\"})"
   ]
  },
  {
   "cell_type": "code",
   "execution_count": null,
   "id": "097efb09-8e8c-4e3f-9418-4993c241d765",
   "metadata": {},
   "outputs": [],
   "source": []
  }
 ],
 "metadata": {
  "kernelspec": {
   "display_name": "Python 3 (ipykernel)",
   "language": "python",
   "name": "python3"
  },
  "language_info": {
   "codemirror_mode": {
    "name": "ipython",
    "version": 3
   },
   "file_extension": ".py",
   "mimetype": "text/x-python",
   "name": "python",
   "nbconvert_exporter": "python",
   "pygments_lexer": "ipython3",
   "version": "3.11.3"
  }
 },
 "nbformat": 4,
 "nbformat_minor": 5
}
